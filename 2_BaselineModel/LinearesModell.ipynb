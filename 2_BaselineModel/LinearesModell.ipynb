{
 "cells": [
  {
   "cell_type": "code",
   "execution_count": 2,
   "metadata": {},
   "outputs": [
    {
     "name": "stdout",
     "output_type": "stream",
     "text": [
      "Requirement already satisfied: statsmodels in /usr/local/python/3.10.13/lib/python3.10/site-packages (0.14.2)\n",
      "Requirement already satisfied: numpy>=1.22.3 in /home/codespace/.local/lib/python3.10/site-packages (from statsmodels) (1.26.4)\n",
      "Requirement already satisfied: scipy!=1.9.2,>=1.8 in /home/codespace/.local/lib/python3.10/site-packages (from statsmodels) (1.13.1)\n",
      "Requirement already satisfied: pandas!=2.1.0,>=1.4 in /home/codespace/.local/lib/python3.10/site-packages (from statsmodels) (2.2.2)\n",
      "Requirement already satisfied: patsy>=0.5.6 in /usr/local/python/3.10.13/lib/python3.10/site-packages (from statsmodels) (0.5.6)\n",
      "Requirement already satisfied: packaging>=21.3 in /home/codespace/.local/lib/python3.10/site-packages (from statsmodels) (24.0)\n",
      "Requirement already satisfied: python-dateutil>=2.8.2 in /home/codespace/.local/lib/python3.10/site-packages (from pandas!=2.1.0,>=1.4->statsmodels) (2.9.0.post0)\n",
      "Requirement already satisfied: pytz>=2020.1 in /home/codespace/.local/lib/python3.10/site-packages (from pandas!=2.1.0,>=1.4->statsmodels) (2024.1)\n",
      "Requirement already satisfied: tzdata>=2022.7 in /home/codespace/.local/lib/python3.10/site-packages (from pandas!=2.1.0,>=1.4->statsmodels) (2024.1)\n",
      "Requirement already satisfied: six in /home/codespace/.local/lib/python3.10/site-packages (from patsy>=0.5.6->statsmodels) (1.16.0)\n",
      "\n",
      "\u001b[1m[\u001b[0m\u001b[34;49mnotice\u001b[0m\u001b[1;39;49m]\u001b[0m\u001b[39;49m A new release of pip is available: \u001b[0m\u001b[31;49m24.0\u001b[0m\u001b[39;49m -> \u001b[0m\u001b[32;49m24.1\u001b[0m\n",
      "\u001b[1m[\u001b[0m\u001b[34;49mnotice\u001b[0m\u001b[1;39;49m]\u001b[0m\u001b[39;49m To update, run: \u001b[0m\u001b[32;49mpython3 -m pip install --upgrade pip\u001b[0m\n"
     ]
    }
   ],
   "source": [
    "!pip install statsmodels"
   ]
  },
  {
   "cell_type": "code",
   "execution_count": 3,
   "metadata": {},
   "outputs": [],
   "source": [
    "import pandas as pd\n",
    "import statsmodels.formula.api as smf\n"
   ]
  },
  {
   "cell_type": "code",
   "execution_count": 4,
   "metadata": {},
   "outputs": [],
   "source": [
    "umsaetze_df = pd.read_csv('https://raw.githubusercontent.com/opencampus-sh/einfuehrung-in-data-science-und-ml/main/umsatzdaten_gekuerzt.csv')\n",
    "wetter_df = pd.read_csv('/workspaces/UmsatzWetterBackereiKiel/0_DataPreparation/wetter.csv')\n",
    "#wettercode_df = pd.read_csv('/workspaces/UmsatzWetterBackereiKiel/Wettercode.csv')\n",
    "#feiertage_sh_ausgeschrieben_df = pd.read_csv('/workspaces/UmsatzWetterBackereiKiel/0_DataPreparation/feiertage_sh_ausgeschrieben.csv')\n",
    "kiwo_df = pd.read_csv('/workspaces/UmsatzWetterBackereiKiel/0_DataPreparation/kiwo.csv')\n",
    "schulferein_df = pd.read_csv('/workspaces/UmsatzWetterBackereiKiel/0_DataPreparation/Variablen_CSV/schulferien.csv')\n",
    "sonntage_df = pd.read_csv('/workspaces/UmsatzWetterBackereiKiel/0_DataPreparation/Variablen_CSV/sonntage.csv')\n",
    "#fremdenverkehr_df = pd.read_csv('/workspaces/UmsatzWetterBackereiKiel/0_DataPreparation/Variablen_CSV/Fremdenverkehr.csv')\n",
    "#passagieraufkommen_df = pd.read_csv('/workspaces/UmsatzWetterBackereiKiel/0_DataPreparation/Variablen_CSV/Passagieraufkommen.csv')\n",
    "\n"
   ]
  },
  {
   "cell_type": "code",
   "execution_count": 5,
   "metadata": {},
   "outputs": [
    {
     "name": "stdout",
     "output_type": "stream",
     "text": [
      "<bound method NDFrame.head of            Datum  Warengruppe      Umsatz\n",
      "0     2013-07-01            1  148.828353\n",
      "1     2013-07-02            1  159.793757\n",
      "2     2013-07-03            1  111.885594\n",
      "3     2013-07-04            1  168.864941\n",
      "4     2013-07-05            1  171.280754\n",
      "...          ...          ...         ...\n",
      "9329  2017-12-21            6   87.471228\n",
      "9330  2017-12-22            6   71.911652\n",
      "9331  2017-12-23            6   84.062223\n",
      "9332  2017-12-24            6   60.981969\n",
      "9333  2017-12-27            6   34.972644\n",
      "\n",
      "[9334 rows x 3 columns]>\n",
      "<bound method NDFrame.head of            Datum  Bewoelkung  Temperatur  Windgeschwindigkeit  Wettercode\n",
      "0     2012-01-01         8.0      9.8250                   14        58.0\n",
      "1     2012-01-02         7.0      7.4375                   12         NaN\n",
      "2     2012-01-03         8.0      5.5375                   18        63.0\n",
      "3     2012-01-04         4.0      5.6875                   19        80.0\n",
      "4     2012-01-05         6.0      5.3000                   23        80.0\n",
      "...          ...         ...         ...                  ...         ...\n",
      "2596  2019-07-28         3.0     23.3500                   14         5.0\n",
      "2597  2019-07-29         6.0     25.2500                    7        61.0\n",
      "2598  2019-07-30         7.0     20.7375                    8        61.0\n",
      "2599  2019-07-31         6.0     20.4500                    7        61.0\n",
      "2600  2019-08-01         5.0     21.0625                    9        61.0\n",
      "\n",
      "[2601 rows x 5 columns]>\n",
      "<bound method NDFrame.head of          Datum  KielerWoche\n",
      "0   2012-06-16            1\n",
      "1   2012-06-17            1\n",
      "2   2012-06-18            1\n",
      "3   2012-06-19            1\n",
      "4   2012-06-20            1\n",
      "..         ...          ...\n",
      "67  2019-06-26            1\n",
      "68  2019-06-27            1\n",
      "69  2019-06-28            1\n",
      "70  2019-06-29            1\n",
      "71  2019-06-30            1\n",
      "\n",
      "[72 rows x 2 columns]>\n",
      "<bound method NDFrame.head of            Datum  Ferien\n",
      "0     2013-04-30     0.0\n",
      "1     2013-05-01     0.0\n",
      "2     2013-05-02     0.0\n",
      "3     2013-05-03     0.0\n",
      "4     2013-05-04     0.0\n",
      "...          ...     ...\n",
      "2279  2019-07-27     1.0\n",
      "2280  2019-07-28     1.0\n",
      "2281  2019-07-29     1.0\n",
      "2282  2019-07-30     1.0\n",
      "2283  2019-07-31     1.0\n",
      "\n",
      "[2284 rows x 2 columns]>\n",
      "<bound method NDFrame.head of            Datum  Verkaufsoffen\n",
      "0     2013-04-30              0\n",
      "1     2013-05-01              0\n",
      "2     2013-05-02              0\n",
      "3     2013-05-03              0\n",
      "4     2013-05-04              0\n",
      "...          ...            ...\n",
      "2279  2019-07-27              0\n",
      "2280  2019-07-28              0\n",
      "2281  2019-07-29              0\n",
      "2282  2019-07-30              0\n",
      "2283  2019-07-31              0\n",
      "\n",
      "[2284 rows x 2 columns]>\n"
     ]
    }
   ],
   "source": [
    "print(umsaetze_df.head)\n",
    "print(wetter_df.head)\n",
    "#print(wettercode_df.head)\n",
    "#print(feiertage_sh_ausgeschrieben_df.head)\n",
    "print(kiwo_df.head)\n",
    "print(schulferein_df.head)\n",
    "print(sonntage_df.head)\n",
    "#print(fremdenverkehr_df.head)\n",
    "#print(passagieraufkommen_df.head)"
   ]
  },
  {
   "cell_type": "code",
   "execution_count": 6,
   "metadata": {},
   "outputs": [],
   "source": [
    "# Annahme: Das Datum ist im Format 'YYYY-MM-DD'\n",
    "# Datum formatieren \n",
    "\n",
    "umsaetze_df['Datum'] = pd.to_datetime(umsaetze_df['Datum'])\n",
    "wetter_df['Datum'] = pd.to_datetime(wetter_df['Datum'])\n",
    "kiwo_df['Datum'] = pd.to_datetime(kiwo_df['Datum'])\n",
    "schulferein_df['Datum'] = pd.to_datetime(schulferein_df['Datum'])\n",
    "sonntage_df['Datum'] = pd.to_datetime(sonntage_df['Datum'])\n",
    "\n",
    "#rohertrag_df['Datum'] = pd.to_datetime(rohertrag_df['Datum'])\n",
    "#Fremdenverkehr_df['Datum'] = pd.to_datetime(Fremdenverkehr_df['Datum'])\n",
    "#Passagiere_df['Datum'] = pd.to_datetime(Passagiere_df['Datum'])\n",
    "#WetterB_df['Datum'] = pd.to_datetime(WetterB_df['Datum'])"
   ]
  },
  {
   "cell_type": "code",
   "execution_count": 7,
   "metadata": {},
   "outputs": [
    {
     "name": "stdout",
     "output_type": "stream",
     "text": [
      "<bound method NDFrame.head of            Datum  Bewoelkung  Temperatur  Windgeschwindigkeit  Wettercode  \\\n",
      "0     2012-01-01         8.0      9.8250                 14.0        58.0   \n",
      "1     2012-01-02         7.0      7.4375                 12.0         NaN   \n",
      "2     2012-01-03         8.0      5.5375                 18.0        63.0   \n",
      "3     2012-01-04         4.0      5.6875                 19.0        80.0   \n",
      "4     2012-01-05         6.0      5.3000                 23.0        80.0   \n",
      "...          ...         ...         ...                  ...         ...   \n",
      "10128 2019-07-28         3.0     23.3500                 14.0         5.0   \n",
      "10129 2019-07-29         6.0     25.2500                  7.0        61.0   \n",
      "10130 2019-07-30         7.0     20.7375                  8.0        61.0   \n",
      "10131 2019-07-31         6.0     20.4500                  7.0        61.0   \n",
      "10132 2019-08-01         5.0     21.0625                  9.0        61.0   \n",
      "\n",
      "       KielerWoche  Warengruppe  Umsatz  Ferien  Verkaufsoffen  \n",
      "0              NaN          NaN     NaN     NaN            NaN  \n",
      "1              NaN          NaN     NaN     NaN            NaN  \n",
      "2              NaN          NaN     NaN     NaN            NaN  \n",
      "3              NaN          NaN     NaN     NaN            NaN  \n",
      "4              NaN          NaN     NaN     NaN            NaN  \n",
      "...            ...          ...     ...     ...            ...  \n",
      "10128          NaN          NaN     NaN     1.0            0.0  \n",
      "10129          NaN          NaN     NaN     1.0            0.0  \n",
      "10130          NaN          NaN     NaN     1.0            0.0  \n",
      "10131          NaN          NaN     NaN     1.0            0.0  \n",
      "10132          NaN          NaN     NaN     NaN            NaN  \n",
      "\n",
      "[10133 rows x 10 columns]>\n"
     ]
    }
   ],
   "source": [
    "# Daten zusammenführen\n",
    "#df = pd.merge(umsaetze_df, wetter_df, kiwo_df, schulferein_df, sonntage_df, on='Datum')\n",
    "\n",
    "# Annahme: Die DataFrames sind bereits definiert\n",
    "# umsaetze_df, wetter_df, kiwo_df, schulferein_df, sonntage_df\n",
    "\n",
    "# Schrittweise Zusammenführung der DataFrames basierend auf 'Datum'\n",
    "merged_df = pd.merge(wetter_df, kiwo_df, on='Datum', how='outer')\n",
    "merged_df = pd.merge(merged_df, umsaetze_df, on='Datum', how='outer')\n",
    "merged_df = pd.merge(merged_df, schulferein_df, on='Datum', how='outer')\n",
    "merged_df = pd.merge(merged_df, sonntage_df, on='Datum', how='outer')\n",
    "\n",
    "\n",
    "# Sortieren nach Datum\n",
    "merged_df = merged_df.sort_values('Datum')\n",
    "\n",
    "# Ausgabe head\n",
    "print(merged_df.head)\n"
   ]
  },
  {
   "cell_type": "code",
   "execution_count": 12,
   "metadata": {},
   "outputs": [
    {
     "name": "stdout",
     "output_type": "stream",
     "text": [
      "       Datum  Bewoelkung  Temperatur  Windgeschwindigkeit  Wettercode  \\\n",
      "0 2012-01-01         8.0      9.8250                 14.0        58.0   \n",
      "1 2012-01-02         7.0      7.4375                 12.0         0.0   \n",
      "2 2012-01-03         8.0      5.5375                 18.0        63.0   \n",
      "3 2012-01-04         4.0      5.6875                 19.0        80.0   \n",
      "4 2012-01-05         6.0      5.3000                 23.0        80.0   \n",
      "\n",
      "   KielerWoche  Warengruppe  Umsatz  Ferien  Verkaufsoffen  \n",
      "0          0.0          0.0     0.0     0.0            0.0  \n",
      "1          0.0          0.0     0.0     0.0            0.0  \n",
      "2          0.0          0.0     0.0     0.0            0.0  \n",
      "3          0.0          0.0     0.0     0.0            0.0  \n",
      "4          0.0          0.0     0.0     0.0            0.0  \n"
     ]
    }
   ],
   "source": [
    "#na 0 muss raus\n",
    "\n",
    "merged_df.fillna({\"KielerWoche\": 0, \"Ferien\": 0, \"Verkaufsoffen\": 0, \"Wettercode\": 0, \"Warengruppe\": 0, \"Umsatz\": 0}, inplace=True)\n",
    "print(merged_df.head())"
   ]
  },
  {
   "cell_type": "code",
   "execution_count": 9,
   "metadata": {},
   "outputs": [
    {
     "name": "stdout",
     "output_type": "stream",
     "text": [
      "         Datum\n",
      "331 2013-04-30\n",
      "332 2013-05-01\n",
      "333 2013-05-02\n",
      "334 2013-05-03\n",
      "335 2013-05-04\n"
     ]
    }
   ],
   "source": [
    "\"\"\"\n",
    "# Start- und Enddatum definieren\n",
    "start_date = '2012-06-03'\n",
    "end_date = '2019-11-03'\n",
    "\n",
    "# Datenreihe mit allen Daten im Zeitraum erstellen\n",
    "all_dates = pd.date_range(start=start_date, end=end_date)\n",
    "\n",
    "# DataFrame mit allen Daten erstellen\n",
    "all_dates_merged = pd.DataFrame(all_dates, columns=['Datum'])\n",
    "\n",
    "# Löschen aller Zeilen ab Datum '2019-08-01' und vor '2013-04-29'\n",
    "datum_zum_loeschen = '2019-08-01'\n",
    "datum_zum_loeschen_2 = '2013-04-29'\n",
    "all_dates_merged = all_dates_merged[(all_dates_merged['Datum'] < datum_zum_loeschen) & (all_dates_merged['Datum'] > datum_zum_loeschen_2)]\n",
    "print(all_dates_merged.head())\n",
    "\"\"\"\n",
    "\n"
   ]
  },
  {
   "cell_type": "code",
   "execution_count": 13,
   "metadata": {},
   "outputs": [
    {
     "name": "stdout",
     "output_type": "stream",
     "text": [
      "Training Data Länge: 7585\n",
      "Validation Data Länge: 2862\n",
      "<bound method NDFrame.head of           Datum  Bewoelkung  Temperatur  Windgeschwindigkeit  Wettercode  \\\n",
      "333  2013-04-30         3.0   11.116666                 15.0         0.0   \n",
      "334  2013-05-01         0.0    9.900000                 11.0         0.0   \n",
      "335  2013-05-02         1.0   11.037500                 12.0         0.0   \n",
      "336  2013-05-03         0.0   12.912500                  9.0         0.0   \n",
      "337  2013-05-04         0.0   17.950000                 18.0         0.0   \n",
      "...         ...         ...         ...                  ...         ...   \n",
      "7917 2017-07-31         2.0   22.750000                  9.0         0.0   \n",
      "7916 2017-07-31         2.0   22.750000                  9.0         0.0   \n",
      "7915 2017-07-31         2.0   22.750000                  9.0         0.0   \n",
      "7914 2017-07-31         2.0   22.750000                  9.0         0.0   \n",
      "7913 2017-07-31         2.0   22.750000                  9.0         0.0   \n",
      "\n",
      "      KielerWoche  Warengruppe      Umsatz  Ferien  Verkaufsoffen  \n",
      "333           0.0          0.0    0.000000     0.0            0.0  \n",
      "334           0.0          0.0    0.000000     0.0            0.0  \n",
      "335           0.0          0.0    0.000000     0.0            0.0  \n",
      "336           0.0          0.0    0.000000     0.0            0.0  \n",
      "337           0.0          0.0    0.000000     0.0            0.0  \n",
      "...           ...          ...         ...     ...            ...  \n",
      "7917          0.0          5.0  222.684256     1.0            0.0  \n",
      "7916          0.0          4.0   87.226479     1.0            0.0  \n",
      "7915          0.0          3.0  294.721801     1.0            0.0  \n",
      "7914          0.0          2.0  548.102447     1.0            0.0  \n",
      "7913          0.0          1.0  162.425333     1.0            0.0  \n",
      "\n",
      "[7585 rows x 10 columns]>\n",
      "<bound method NDFrame.head of           Datum  Bewoelkung  Temperatur  Windgeschwindigkeit  Wettercode  \\\n",
      "6905 2017-01-08         8.0      2.2500                  4.0        10.0   \n",
      "6906 2017-01-08         8.0      2.2500                  4.0        10.0   \n",
      "6907 2017-01-08         8.0      2.2500                  4.0        10.0   \n",
      "6908 2017-01-08         8.0      2.2500                  4.0        10.0   \n",
      "6909 2017-01-08         8.0      2.2500                  4.0        10.0   \n",
      "...         ...         ...         ...                  ...         ...   \n",
      "9762 2018-07-31         5.0     31.2875                 11.0         0.0   \n",
      "9763 2018-07-31         5.0     31.2875                 11.0         0.0   \n",
      "9764 2018-07-31         5.0     31.2875                 11.0         0.0   \n",
      "9765 2018-07-31         5.0     31.2875                 11.0         0.0   \n",
      "9766 2018-07-31         5.0     31.2875                 11.0         0.0   \n",
      "\n",
      "      KielerWoche  Warengruppe      Umsatz  Ferien  Verkaufsoffen  \n",
      "6905          0.0          1.0   54.821287     0.0            0.0  \n",
      "6906          0.0          2.0  352.056991     0.0            0.0  \n",
      "6907          0.0          3.0  131.287627     0.0            0.0  \n",
      "6908          0.0          4.0  204.632350     0.0            0.0  \n",
      "6909          0.0          5.0  205.527279     0.0            0.0  \n",
      "...           ...          ...         ...     ...            ...  \n",
      "9762          0.0          1.0  123.075682     1.0            0.0  \n",
      "9763          0.0          2.0  586.081666     1.0            0.0  \n",
      "9764          0.0          3.0  285.872616     1.0            0.0  \n",
      "9765          0.0          4.0   57.102795     1.0            0.0  \n",
      "9766          0.0          5.0  261.341313     1.0            0.0  \n",
      "\n",
      "[2862 rows x 10 columns]>\n"
     ]
    }
   ],
   "source": [
    "# Split (Training und Validierung)\n",
    "\n",
    "train_df = merged_df[(merged_df[\"Datum\"] >= \"01.07.2013\") & (merged_df[\"Datum\"] <= \"31.07.2017\")]\n",
    "validation_df = merged_df[(merged_df[\"Datum\"] >= \"01.08.2017\") & (merged_df[\"Datum\"] <= \"31.07.2018\")]\n",
    "\n",
    "print(f\"Training Data Länge: {len(train_df)}\")\n",
    "print(f\"Validation Data Länge: {len(validation_df)}\")\n",
    "\n",
    "print(train_df.head)\n",
    "print(validation_df.head)"
   ]
  },
  {
   "cell_type": "code",
   "execution_count": 14,
   "metadata": {},
   "outputs": [
    {
     "name": "stdout",
     "output_type": "stream",
     "text": [
      "                            OLS Regression Results                            \n",
      "==============================================================================\n",
      "Dep. Variable:                 Umsatz   R-squared:                       0.720\n",
      "Model:                            OLS   Adj. R-squared:                  0.719\n",
      "Method:                 Least Squares   F-statistic:                     2888.\n",
      "Date:                Wed, 26 Jun 2024   Prob (F-statistic):               0.00\n",
      "Time:                        18:16:31   Log-Likelihood:                -58673.\n",
      "No. Observations:               10133   AIC:                         1.174e+05\n",
      "Df Residuals:                   10123   BIC:                         1.174e+05\n",
      "Df Model:                           9                                         \n",
      "Covariance Type:            nonrobust                                         \n",
      "=========================================================================================\n",
      "                            coef    std err          t      P>|t|      [0.025      0.975]\n",
      "-----------------------------------------------------------------------------------------\n",
      "Intercept               -11.2604      2.827     -3.984      0.000     -16.801      -5.720\n",
      "C(Warengruppe)[T.1.0]   118.8050      3.364     35.319      0.000     112.211     125.399\n",
      "C(Warengruppe)[T.2.0]   399.1604      3.364    118.664      0.000     392.567     405.754\n",
      "C(Warengruppe)[T.3.0]   160.0034      3.364     47.566      0.000     153.410     166.597\n",
      "C(Warengruppe)[T.4.0]    85.0814      3.379     25.182      0.000      78.459      91.704\n",
      "C(Warengruppe)[T.5.0]   273.4580      3.364     81.294      0.000     266.864     280.052\n",
      "C(Warengruppe)[T.6.0]    70.8834      5.419     13.079      0.000      60.260      81.507\n",
      "KielerWoche              56.2515      5.089     11.053      0.000      46.276      66.227\n",
      "Verkaufsoffen            30.7402      7.811      3.935      0.000      15.429      46.052\n",
      "Ferien                   54.8904      1.894     28.979      0.000      51.178      58.603\n",
      "==============================================================================\n",
      "Omnibus:                     8921.338   Durbin-Watson:                   1.540\n",
      "Prob(Omnibus):                  0.000   Jarque-Bera (JB):          1214012.715\n",
      "Skew:                           3.662   Prob(JB):                         0.00\n",
      "Kurtosis:                      56.120   Cond. No.                         11.1\n",
      "==============================================================================\n",
      "\n",
      "Notes:\n",
      "[1] Standard Errors assume that the covariance matrix of the errors is correctly specified.\n"
     ]
    }
   ],
   "source": [
    "import statsmodels.formula.api as smf\n",
    "\n",
    "# Fit the linear model\n",
    "mod = smf.ols('Umsatz ~ KielerWoche + Verkaufsoffen + Ferien + C(Warengruppe)', data=merged_df).fit()\n",
    "\n",
    "print(mod.summary())\n"
   ]
  },
  {
   "cell_type": "markdown",
   "metadata": {},
   "source": [
    "* Ein R²-Wert von 0.720 ist relativ hoch und zeigt, dass das Modell eine gute Eignung hat.\n",
    "\n",
    "* F-statistic: 2888 - Ein sehr hoher Wert, der anzeigt, dass das Modell insgesamt signifikant ist und die erklärenden Variablen das Umsatzniveau beeinflussen.\n",
    "\n",
    "* Alle unabhängigen Variablen im Modell haben p-Werte unter 0.05, was bedeutet, dass sie alle auf einem 95%-Konfidenzniveau statistisch signifikant sind.\n",
    "\n",
    "* Alle Warengruppen haben einen positiven und signifikanten Effekt auf den Umsatz, wobei Warengruppe 2.0 den höchsten Effekt hat (399.1604), gefolgt von Warengruppe 5.0 (273.4580).\n",
    "\n",
    "* Während der Kieler Woche steigt der Umsatz signifikant um etwa 56.25 Einheiten. Der hohe t-Wert (11.053) und der niedrige p-Wert (< 0.05) zeigen, dass dieser Effekt sehr signifikant ist.\n",
    "\n",
    "* Verkaufsoffene Sonntage erhöhen den Umsatz signifikant um etwa 30.74 Einheiten. Auch hier sind t-Wert (3.935) und p-Wert (< 0.05) signifikant.\n",
    "\n",
    "* Ferienzeiten erhöhen den Umsatz signifikant um etwa 54.89 Einheiten. Der Effekt ist stark und sehr signifikant (t-Wert: 28.979).\n",
    "\n",
    "**Fazit:** Das Modell zeigt, dass verschiedene Warengruppen, spezielle Veranstaltungen (wie die Kieler Woche und verkaufsoffene Sonntage) und Ferienzeiten signifikante Prädiktoren für den Umsatz sind. Die hohe R²- und die F-Statistik bestätigen die Güte des Modells. Alle erklärenden Variablen sind statistisch signifikant, was die Bedeutung dieser Faktoren für die Umsatzsteigerung unterstreicht."
   ]
  }
 ],
 "metadata": {
  "kernelspec": {
   "display_name": "Python 3",
   "language": "python",
   "name": "python3"
  },
  "language_info": {
   "codemirror_mode": {
    "name": "ipython",
    "version": 3
   },
   "file_extension": ".py",
   "mimetype": "text/x-python",
   "name": "python",
   "nbconvert_exporter": "python",
   "pygments_lexer": "ipython3",
   "version": "3.10.13"
  }
 },
 "nbformat": 4,
 "nbformat_minor": 2
}
