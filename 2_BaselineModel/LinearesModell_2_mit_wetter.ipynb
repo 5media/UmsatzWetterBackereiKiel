{
 "cells": [
  {
   "cell_type": "code",
   "execution_count": 1,
   "metadata": {},
   "outputs": [
    {
     "name": "stdout",
     "output_type": "stream",
     "text": [
      "Requirement already satisfied: statsmodels in /usr/local/python/3.10.13/lib/python3.10/site-packages (0.14.2)\n",
      "Requirement already satisfied: numpy>=1.22.3 in /home/codespace/.local/lib/python3.10/site-packages (from statsmodels) (1.26.4)\n",
      "Requirement already satisfied: scipy!=1.9.2,>=1.8 in /home/codespace/.local/lib/python3.10/site-packages (from statsmodels) (1.13.1)\n",
      "Requirement already satisfied: pandas!=2.1.0,>=1.4 in /home/codespace/.local/lib/python3.10/site-packages (from statsmodels) (2.2.2)\n",
      "Requirement already satisfied: patsy>=0.5.6 in /usr/local/python/3.10.13/lib/python3.10/site-packages (from statsmodels) (0.5.6)\n",
      "Requirement already satisfied: packaging>=21.3 in /home/codespace/.local/lib/python3.10/site-packages (from statsmodels) (24.0)\n",
      "Requirement already satisfied: python-dateutil>=2.8.2 in /home/codespace/.local/lib/python3.10/site-packages (from pandas!=2.1.0,>=1.4->statsmodels) (2.9.0.post0)\n",
      "Requirement already satisfied: pytz>=2020.1 in /home/codespace/.local/lib/python3.10/site-packages (from pandas!=2.1.0,>=1.4->statsmodels) (2024.1)\n",
      "Requirement already satisfied: tzdata>=2022.7 in /home/codespace/.local/lib/python3.10/site-packages (from pandas!=2.1.0,>=1.4->statsmodels) (2024.1)\n",
      "Requirement already satisfied: six in /home/codespace/.local/lib/python3.10/site-packages (from patsy>=0.5.6->statsmodels) (1.16.0)\n",
      "\n",
      "\u001b[1m[\u001b[0m\u001b[34;49mnotice\u001b[0m\u001b[1;39;49m]\u001b[0m\u001b[39;49m A new release of pip is available: \u001b[0m\u001b[31;49m24.0\u001b[0m\u001b[39;49m -> \u001b[0m\u001b[32;49m24.1\u001b[0m\n",
      "\u001b[1m[\u001b[0m\u001b[34;49mnotice\u001b[0m\u001b[1;39;49m]\u001b[0m\u001b[39;49m To update, run: \u001b[0m\u001b[32;49mpython3 -m pip install --upgrade pip\u001b[0m\n"
     ]
    }
   ],
   "source": [
    "!pip install statsmodels"
   ]
  },
  {
   "cell_type": "code",
   "execution_count": 2,
   "metadata": {},
   "outputs": [],
   "source": [
    "import pandas as pd\n",
    "import statsmodels.formula.api as smf\n"
   ]
  },
  {
   "cell_type": "code",
   "execution_count": 3,
   "metadata": {},
   "outputs": [],
   "source": [
    "umsaetze_df = pd.read_csv('https://raw.githubusercontent.com/opencampus-sh/einfuehrung-in-data-science-und-ml/main/umsatzdaten_gekuerzt.csv')\n",
    "wetter_df = pd.read_csv('/workspaces/UmsatzWetterBackereiKiel/0_DataPreparation/wetter.csv')\n",
    "#wettercode_df = pd.read_csv('/workspaces/UmsatzWetterBackereiKiel/Wettercode.csv')\n",
    "#feiertage_sh_ausgeschrieben_df = pd.read_csv('/workspaces/UmsatzWetterBackereiKiel/0_DataPreparation/feiertage_sh_ausgeschrieben.csv')\n",
    "kiwo_df = pd.read_csv('/workspaces/UmsatzWetterBackereiKiel/0_DataPreparation/kiwo.csv')\n",
    "schulferein_df = pd.read_csv('/workspaces/UmsatzWetterBackereiKiel/0_DataPreparation/Variablen_CSV/schulferien.csv')\n",
    "sonntage_df = pd.read_csv('/workspaces/UmsatzWetterBackereiKiel/0_DataPreparation/Variablen_CSV/sonntage.csv')\n",
    "#fremdenverkehr_df = pd.read_csv('/workspaces/UmsatzWetterBackereiKiel/0_DataPreparation/Variablen_CSV/Fremdenverkehr.csv')\n",
    "#passagieraufkommen_df = pd.read_csv('/workspaces/UmsatzWetterBackereiKiel/0_DataPreparation/Variablen_CSV/Passagieraufkommen.csv')\n",
    "\n"
   ]
  },
  {
   "cell_type": "code",
   "execution_count": 4,
   "metadata": {},
   "outputs": [
    {
     "name": "stdout",
     "output_type": "stream",
     "text": [
      "<bound method NDFrame.head of            Datum  Warengruppe      Umsatz\n",
      "0     2013-07-01            1  148.828353\n",
      "1     2013-07-02            1  159.793757\n",
      "2     2013-07-03            1  111.885594\n",
      "3     2013-07-04            1  168.864941\n",
      "4     2013-07-05            1  171.280754\n",
      "...          ...          ...         ...\n",
      "9329  2017-12-21            6   87.471228\n",
      "9330  2017-12-22            6   71.911652\n",
      "9331  2017-12-23            6   84.062223\n",
      "9332  2017-12-24            6   60.981969\n",
      "9333  2017-12-27            6   34.972644\n",
      "\n",
      "[9334 rows x 3 columns]>\n",
      "<bound method NDFrame.head of            Datum  Bewoelkung  Temperatur  Windgeschwindigkeit  Wettercode\n",
      "0     2012-01-01         8.0      9.8250                   14        58.0\n",
      "1     2012-01-02         7.0      7.4375                   12         NaN\n",
      "2     2012-01-03         8.0      5.5375                   18        63.0\n",
      "3     2012-01-04         4.0      5.6875                   19        80.0\n",
      "4     2012-01-05         6.0      5.3000                   23        80.0\n",
      "...          ...         ...         ...                  ...         ...\n",
      "2596  2019-07-28         3.0     23.3500                   14         5.0\n",
      "2597  2019-07-29         6.0     25.2500                    7        61.0\n",
      "2598  2019-07-30         7.0     20.7375                    8        61.0\n",
      "2599  2019-07-31         6.0     20.4500                    7        61.0\n",
      "2600  2019-08-01         5.0     21.0625                    9        61.0\n",
      "\n",
      "[2601 rows x 5 columns]>\n",
      "<bound method NDFrame.head of          Datum  KielerWoche\n",
      "0   2012-06-16            1\n",
      "1   2012-06-17            1\n",
      "2   2012-06-18            1\n",
      "3   2012-06-19            1\n",
      "4   2012-06-20            1\n",
      "..         ...          ...\n",
      "67  2019-06-26            1\n",
      "68  2019-06-27            1\n",
      "69  2019-06-28            1\n",
      "70  2019-06-29            1\n",
      "71  2019-06-30            1\n",
      "\n",
      "[72 rows x 2 columns]>\n",
      "<bound method NDFrame.head of            Datum  Ferien\n",
      "0     2013-04-30     0.0\n",
      "1     2013-05-01     0.0\n",
      "2     2013-05-02     0.0\n",
      "3     2013-05-03     0.0\n",
      "4     2013-05-04     0.0\n",
      "...          ...     ...\n",
      "2279  2019-07-27     1.0\n",
      "2280  2019-07-28     1.0\n",
      "2281  2019-07-29     1.0\n",
      "2282  2019-07-30     1.0\n",
      "2283  2019-07-31     1.0\n",
      "\n",
      "[2284 rows x 2 columns]>\n",
      "<bound method NDFrame.head of            Datum  Verkaufsoffen\n",
      "0     2013-04-30              0\n",
      "1     2013-05-01              0\n",
      "2     2013-05-02              0\n",
      "3     2013-05-03              0\n",
      "4     2013-05-04              0\n",
      "...          ...            ...\n",
      "2279  2019-07-27              0\n",
      "2280  2019-07-28              0\n",
      "2281  2019-07-29              0\n",
      "2282  2019-07-30              0\n",
      "2283  2019-07-31              0\n",
      "\n",
      "[2284 rows x 2 columns]>\n"
     ]
    }
   ],
   "source": [
    "print(umsaetze_df.head)\n",
    "print(wetter_df.head)\n",
    "#print(wettercode_df.head)\n",
    "#print(feiertage_sh_ausgeschrieben_df.head)\n",
    "print(kiwo_df.head)\n",
    "print(schulferein_df.head)\n",
    "print(sonntage_df.head)\n",
    "#print(fremdenverkehr_df.head)\n",
    "#print(passagieraufkommen_df.head)"
   ]
  },
  {
   "cell_type": "code",
   "execution_count": 5,
   "metadata": {},
   "outputs": [],
   "source": [
    "# Annahme: Das Datum ist im Format 'YYYY-MM-DD'\n",
    "# Datum formatieren \n",
    "\n",
    "umsaetze_df['Datum'] = pd.to_datetime(umsaetze_df['Datum'])\n",
    "wetter_df['Datum'] = pd.to_datetime(wetter_df['Datum'])\n",
    "kiwo_df['Datum'] = pd.to_datetime(kiwo_df['Datum'])\n",
    "schulferein_df['Datum'] = pd.to_datetime(schulferein_df['Datum'])\n",
    "sonntage_df['Datum'] = pd.to_datetime(sonntage_df['Datum'])\n",
    "\n",
    "#rohertrag_df['Datum'] = pd.to_datetime(rohertrag_df['Datum'])\n",
    "#Fremdenverkehr_df['Datum'] = pd.to_datetime(Fremdenverkehr_df['Datum'])\n",
    "#Passagiere_df['Datum'] = pd.to_datetime(Passagiere_df['Datum'])\n",
    "#WetterB_df['Datum'] = pd.to_datetime(WetterB_df['Datum'])"
   ]
  },
  {
   "cell_type": "code",
   "execution_count": 6,
   "metadata": {},
   "outputs": [
    {
     "name": "stdout",
     "output_type": "stream",
     "text": [
      "<bound method NDFrame.head of            Datum  Bewoelkung  Temperatur  Windgeschwindigkeit  Wettercode  \\\n",
      "0     2012-01-01         8.0      9.8250                 14.0        58.0   \n",
      "1     2012-01-02         7.0      7.4375                 12.0         NaN   \n",
      "2     2012-01-03         8.0      5.5375                 18.0        63.0   \n",
      "3     2012-01-04         4.0      5.6875                 19.0        80.0   \n",
      "4     2012-01-05         6.0      5.3000                 23.0        80.0   \n",
      "...          ...         ...         ...                  ...         ...   \n",
      "10128 2019-07-28         3.0     23.3500                 14.0         5.0   \n",
      "10129 2019-07-29         6.0     25.2500                  7.0        61.0   \n",
      "10130 2019-07-30         7.0     20.7375                  8.0        61.0   \n",
      "10131 2019-07-31         6.0     20.4500                  7.0        61.0   \n",
      "10132 2019-08-01         5.0     21.0625                  9.0        61.0   \n",
      "\n",
      "       KielerWoche  Warengruppe  Umsatz  Ferien  Verkaufsoffen  \n",
      "0              NaN          NaN     NaN     NaN            NaN  \n",
      "1              NaN          NaN     NaN     NaN            NaN  \n",
      "2              NaN          NaN     NaN     NaN            NaN  \n",
      "3              NaN          NaN     NaN     NaN            NaN  \n",
      "4              NaN          NaN     NaN     NaN            NaN  \n",
      "...            ...          ...     ...     ...            ...  \n",
      "10128          NaN          NaN     NaN     1.0            0.0  \n",
      "10129          NaN          NaN     NaN     1.0            0.0  \n",
      "10130          NaN          NaN     NaN     1.0            0.0  \n",
      "10131          NaN          NaN     NaN     1.0            0.0  \n",
      "10132          NaN          NaN     NaN     NaN            NaN  \n",
      "\n",
      "[10133 rows x 10 columns]>\n"
     ]
    }
   ],
   "source": [
    "# Daten zusammenführen\n",
    "#df = pd.merge(umsaetze_df, wetter_df, kiwo_df, schulferein_df, sonntage_df, on='Datum')\n",
    "\n",
    "# Annahme: Die DataFrames sind bereits definiert\n",
    "# umsaetze_df, wetter_df, kiwo_df, schulferein_df, sonntage_df\n",
    "\n",
    "# Schrittweise Zusammenführung der DataFrames basierend auf 'Datum'\n",
    "merged_df = pd.merge(wetter_df, kiwo_df, on='Datum', how='outer')\n",
    "merged_df = pd.merge(merged_df, umsaetze_df, on='Datum', how='outer')\n",
    "merged_df = pd.merge(merged_df, schulferein_df, on='Datum', how='outer')\n",
    "merged_df = pd.merge(merged_df, sonntage_df, on='Datum', how='outer')\n",
    "\n",
    "\n",
    "# Sortieren nach Datum\n",
    "merged_df = merged_df.sort_values('Datum')\n",
    "\n",
    "# Ausgabe head\n",
    "print(merged_df.head)\n"
   ]
  },
  {
   "cell_type": "code",
   "execution_count": 7,
   "metadata": {},
   "outputs": [
    {
     "name": "stdout",
     "output_type": "stream",
     "text": [
      "       Datum  Bewoelkung  Temperatur  Windgeschwindigkeit  Wettercode  \\\n",
      "0 2012-01-01         8.0      9.8250                 14.0        58.0   \n",
      "1 2012-01-02         7.0      7.4375                 12.0         0.0   \n",
      "2 2012-01-03         8.0      5.5375                 18.0        63.0   \n",
      "3 2012-01-04         4.0      5.6875                 19.0        80.0   \n",
      "4 2012-01-05         6.0      5.3000                 23.0        80.0   \n",
      "\n",
      "   KielerWoche  Warengruppe  Umsatz  Ferien  Verkaufsoffen  \n",
      "0          0.0          0.0     0.0     0.0            0.0  \n",
      "1          0.0          0.0     0.0     0.0            0.0  \n",
      "2          0.0          0.0     0.0     0.0            0.0  \n",
      "3          0.0          0.0     0.0     0.0            0.0  \n",
      "4          0.0          0.0     0.0     0.0            0.0  \n"
     ]
    }
   ],
   "source": [
    "#na 0 muss raus\n",
    "\n",
    "merged_df.fillna({\"KielerWoche\": 0, \"Ferien\": 0, \"Verkaufsoffen\": 0, \"Wettercode\": 0, \"Warengruppe\": 0, \"Umsatz\": 0}, inplace=True)\n",
    "print(merged_df.head())"
   ]
  },
  {
   "cell_type": "code",
   "execution_count": 8,
   "metadata": {},
   "outputs": [
    {
     "data": {
      "text/plain": [
       "\"\\n# Start- und Enddatum definieren\\nstart_date = '2012-06-03'\\nend_date = '2019-11-03'\\n\\n# Datenreihe mit allen Daten im Zeitraum erstellen\\nall_dates = pd.date_range(start=start_date, end=end_date)\\n\\n# DataFrame mit allen Daten erstellen\\nall_dates_merged = pd.DataFrame(all_dates, columns=['Datum'])\\n\\n# Löschen aller Zeilen ab Datum '2019-08-01' und vor '2013-04-29'\\ndatum_zum_loeschen = '2019-08-01'\\ndatum_zum_loeschen_2 = '2013-04-29'\\nall_dates_merged = all_dates_merged[(all_dates_merged['Datum'] < datum_zum_loeschen) & (all_dates_merged['Datum'] > datum_zum_loeschen_2)]\\nprint(all_dates_merged.head())\\n\""
      ]
     },
     "execution_count": 8,
     "metadata": {},
     "output_type": "execute_result"
    }
   ],
   "source": [
    "\"\"\"\n",
    "# Start- und Enddatum definieren\n",
    "start_date = '2012-06-03'\n",
    "end_date = '2019-11-03'\n",
    "\n",
    "# Datenreihe mit allen Daten im Zeitraum erstellen\n",
    "all_dates = pd.date_range(start=start_date, end=end_date)\n",
    "\n",
    "# DataFrame mit allen Daten erstellen\n",
    "all_dates_merged = pd.DataFrame(all_dates, columns=['Datum'])\n",
    "\n",
    "# Löschen aller Zeilen ab Datum '2019-08-01' und vor '2013-04-29'\n",
    "datum_zum_loeschen = '2019-08-01'\n",
    "datum_zum_loeschen_2 = '2013-04-29'\n",
    "all_dates_merged = all_dates_merged[(all_dates_merged['Datum'] < datum_zum_loeschen) & (all_dates_merged['Datum'] > datum_zum_loeschen_2)]\n",
    "print(all_dates_merged.head())\n",
    "\"\"\"\n",
    "\n"
   ]
  },
  {
   "cell_type": "code",
   "execution_count": 9,
   "metadata": {},
   "outputs": [
    {
     "name": "stdout",
     "output_type": "stream",
     "text": [
      "Training Data Länge: 7585\n",
      "Validation Data Länge: 2862\n",
      "<bound method NDFrame.head of           Datum  Bewoelkung  Temperatur  Windgeschwindigkeit  Wettercode  \\\n",
      "333  2013-04-30         3.0   11.116666                 15.0         0.0   \n",
      "334  2013-05-01         0.0    9.900000                 11.0         0.0   \n",
      "335  2013-05-02         1.0   11.037500                 12.0         0.0   \n",
      "336  2013-05-03         0.0   12.912500                  9.0         0.0   \n",
      "337  2013-05-04         0.0   17.950000                 18.0         0.0   \n",
      "...         ...         ...         ...                  ...         ...   \n",
      "7917 2017-07-31         2.0   22.750000                  9.0         0.0   \n",
      "7916 2017-07-31         2.0   22.750000                  9.0         0.0   \n",
      "7915 2017-07-31         2.0   22.750000                  9.0         0.0   \n",
      "7914 2017-07-31         2.0   22.750000                  9.0         0.0   \n",
      "7913 2017-07-31         2.0   22.750000                  9.0         0.0   \n",
      "\n",
      "      KielerWoche  Warengruppe      Umsatz  Ferien  Verkaufsoffen  \n",
      "333           0.0          0.0    0.000000     0.0            0.0  \n",
      "334           0.0          0.0    0.000000     0.0            0.0  \n",
      "335           0.0          0.0    0.000000     0.0            0.0  \n",
      "336           0.0          0.0    0.000000     0.0            0.0  \n",
      "337           0.0          0.0    0.000000     0.0            0.0  \n",
      "...           ...          ...         ...     ...            ...  \n",
      "7917          0.0          5.0  222.684256     1.0            0.0  \n",
      "7916          0.0          4.0   87.226479     1.0            0.0  \n",
      "7915          0.0          3.0  294.721801     1.0            0.0  \n",
      "7914          0.0          2.0  548.102447     1.0            0.0  \n",
      "7913          0.0          1.0  162.425333     1.0            0.0  \n",
      "\n",
      "[7585 rows x 10 columns]>\n",
      "<bound method NDFrame.head of           Datum  Bewoelkung  Temperatur  Windgeschwindigkeit  Wettercode  \\\n",
      "6905 2017-01-08         8.0      2.2500                  4.0        10.0   \n",
      "6906 2017-01-08         8.0      2.2500                  4.0        10.0   \n",
      "6907 2017-01-08         8.0      2.2500                  4.0        10.0   \n",
      "6908 2017-01-08         8.0      2.2500                  4.0        10.0   \n",
      "6909 2017-01-08         8.0      2.2500                  4.0        10.0   \n",
      "...         ...         ...         ...                  ...         ...   \n",
      "9762 2018-07-31         5.0     31.2875                 11.0         0.0   \n",
      "9763 2018-07-31         5.0     31.2875                 11.0         0.0   \n",
      "9764 2018-07-31         5.0     31.2875                 11.0         0.0   \n",
      "9765 2018-07-31         5.0     31.2875                 11.0         0.0   \n",
      "9766 2018-07-31         5.0     31.2875                 11.0         0.0   \n",
      "\n",
      "      KielerWoche  Warengruppe      Umsatz  Ferien  Verkaufsoffen  \n",
      "6905          0.0          1.0   54.821287     0.0            0.0  \n",
      "6906          0.0          2.0  352.056991     0.0            0.0  \n",
      "6907          0.0          3.0  131.287627     0.0            0.0  \n",
      "6908          0.0          4.0  204.632350     0.0            0.0  \n",
      "6909          0.0          5.0  205.527279     0.0            0.0  \n",
      "...           ...          ...         ...     ...            ...  \n",
      "9762          0.0          1.0  123.075682     1.0            0.0  \n",
      "9763          0.0          2.0  586.081666     1.0            0.0  \n",
      "9764          0.0          3.0  285.872616     1.0            0.0  \n",
      "9765          0.0          4.0   57.102795     1.0            0.0  \n",
      "9766          0.0          5.0  261.341313     1.0            0.0  \n",
      "\n",
      "[2862 rows x 10 columns]>\n"
     ]
    }
   ],
   "source": [
    "# Split (Training und Validierung)\n",
    "\n",
    "train_df = merged_df[(merged_df[\"Datum\"] >= \"01.07.2013\") & (merged_df[\"Datum\"] <= \"31.07.2017\")]\n",
    "validation_df = merged_df[(merged_df[\"Datum\"] >= \"01.08.2017\") & (merged_df[\"Datum\"] <= \"31.07.2018\")]\n",
    "\n",
    "print(f\"Training Data Länge: {len(train_df)}\")\n",
    "print(f\"Validation Data Länge: {len(validation_df)}\")\n",
    "\n",
    "print(train_df.head)\n",
    "print(validation_df.head)"
   ]
  },
  {
   "cell_type": "code",
   "execution_count": 10,
   "metadata": {},
   "outputs": [
    {
     "name": "stdout",
     "output_type": "stream",
     "text": [
      "                            OLS Regression Results                            \n",
      "==============================================================================\n",
      "Dep. Variable:                 Umsatz   R-squared:                       0.739\n",
      "Model:                            OLS   Adj. R-squared:                  0.739\n",
      "Method:                 Least Squares   F-statistic:                     2595.\n",
      "Date:                Wed, 26 Jun 2024   Prob (F-statistic):               0.00\n",
      "Time:                        18:35:25   Log-Likelihood:                -58141.\n",
      "No. Observations:               10103   AIC:                         1.163e+05\n",
      "Df Residuals:                   10091   BIC:                         1.164e+05\n",
      "Df Model:                          11                                         \n",
      "Covariance Type:            nonrobust                                         \n",
      "=========================================================================================\n",
      "                            coef    std err          t      P>|t|      [0.025      0.975]\n",
      "-----------------------------------------------------------------------------------------\n",
      "Intercept               -46.9874      3.695    -12.717      0.000     -54.230     -39.745\n",
      "C(Warengruppe)[T.1.0]   118.5168      3.270     36.241      0.000     112.106     124.927\n",
      "C(Warengruppe)[T.2.0]   398.8584      3.270    121.965      0.000     392.448     405.269\n",
      "C(Warengruppe)[T.3.0]   159.7299      3.270     48.843      0.000     153.320     166.140\n",
      "C(Warengruppe)[T.4.0]    84.7633      3.285     25.806      0.000      78.325      91.202\n",
      "C(Warengruppe)[T.5.0]   273.2526      3.270     83.556      0.000     266.842     279.663\n",
      "C(Warengruppe)[T.6.0]    85.4455      5.281     16.180      0.000      75.094      95.797\n",
      "KielerWoche              33.7275      4.981      6.772      0.000      23.964      43.491\n",
      "Verkaufsoffen            29.5339      7.543      3.915      0.000      14.748      44.319\n",
      "Ferien                   41.6292      1.893     21.993      0.000      37.919      45.339\n",
      "Temperatur                3.0695      0.111     27.654      0.000       2.852       3.287\n",
      "Windgeschwindigkeit       0.2026      0.184      1.098      0.272      -0.159       0.564\n",
      "==============================================================================\n",
      "Omnibus:                     9808.876   Durbin-Watson:                   1.656\n",
      "Prob(Omnibus):                  0.000   Jarque-Bera (JB):          1868570.331\n",
      "Skew:                           4.225   Prob(JB):                         0.00\n",
      "Kurtosis:                      69.087   Cond. No.                         178.\n",
      "==============================================================================\n",
      "\n",
      "Notes:\n",
      "[1] Standard Errors assume that the covariance matrix of the errors is correctly specified.\n"
     ]
    }
   ],
   "source": [
    "import statsmodels.formula.api as smf\n",
    "\n",
    "# Fit the linear model\n",
    "mod = smf.ols('Umsatz ~ KielerWoche + Verkaufsoffen + Ferien + C(Warengruppe) + Temperatur + Windgeschwindigkeit', data=merged_df).fit()\n",
    "\n",
    "print(mod.summary())\n"
   ]
  },
  {
   "cell_type": "code",
   "execution_count": 13,
   "metadata": {},
   "outputs": [
    {
     "name": "stdout",
     "output_type": "stream",
     "text": [
      "                            OLS Regression Results                            \n",
      "==============================================================================\n",
      "Dep. Variable:                 Umsatz   R-squared:                       0.734\n",
      "Model:                            OLS   Adj. R-squared:                  0.733\n",
      "Method:                 Least Squares   F-statistic:                     2778.\n",
      "Date:                Wed, 26 Jun 2024   Prob (F-statistic):               0.00\n",
      "Time:                        18:42:08   Log-Likelihood:                -58243.\n",
      "No. Observations:               10103   AIC:                         1.165e+05\n",
      "Df Residuals:                   10092   BIC:                         1.166e+05\n",
      "Df Model:                          10                                         \n",
      "Covariance Type:            nonrobust                                         \n",
      "==================================================================================================\n",
      "                                     coef    std err          t      P>|t|      [0.025      0.975]\n",
      "--------------------------------------------------------------------------------------------------\n",
      "Intercept                        -37.4989      2.996    -12.514      0.000     -43.373     -31.625\n",
      "C(Warengruppe)[T.1.0]            119.9347      3.301     36.332      0.000     113.464     126.406\n",
      "C(Warengruppe)[T.2.0]            400.2763      3.301    121.255      0.000     393.805     406.747\n",
      "C(Warengruppe)[T.3.0]            161.1478      3.301     48.816      0.000     154.677     167.619\n",
      "C(Warengruppe)[T.4.0]             86.2330      3.316     26.008      0.000      79.734      92.732\n",
      "C(Warengruppe)[T.5.0]            274.6705      3.301     83.206      0.000     268.200     281.141\n",
      "C(Warengruppe)[T.6.0]             83.1479      5.329     15.603      0.000      72.702      93.594\n",
      "KielerWoche                       38.4573      5.020      7.661      0.000      28.617      48.297\n",
      "Verkaufsoffen                     33.1830      7.616      4.357      0.000      18.253      48.113\n",
      "Ferien                            45.5973      1.891     24.112      0.000      41.890      49.304\n",
      "Temperatur:Windgeschwindigkeit     0.2065      0.009     23.459      0.000       0.189       0.224\n",
      "==============================================================================\n",
      "Omnibus:                     9544.845   Durbin-Watson:                   1.629\n",
      "Prob(Omnibus):                  0.000   Jarque-Bera (JB):          1656990.034\n",
      "Skew:                           4.056   Prob(JB):                         0.00\n",
      "Kurtosis:                      65.213   Cond. No.                     1.62e+03\n",
      "==============================================================================\n",
      "\n",
      "Notes:\n",
      "[1] Standard Errors assume that the covariance matrix of the errors is correctly specified.\n",
      "[2] The condition number is large, 1.62e+03. This might indicate that there are\n",
      "strong multicollinearity or other numerical problems.\n"
     ]
    }
   ],
   "source": [
    "import statsmodels.formula.api as smf\n",
    "\n",
    "# Fit the linear model\n",
    "mod = smf.ols('Umsatz ~ KielerWoche + Verkaufsoffen + Ferien + C(Warengruppe) + Temperatur:Windgeschwindigkeit', data=merged_df).fit()\n",
    "\n",
    "print(mod.summary())"
   ]
  },
  {
   "cell_type": "markdown",
   "metadata": {},
   "source": [
    "**Zusammenfassung des Vergleiches zweier Modelle mit unterschiedlicher Einbeziehung der Temperatur** \n",
    "\n",
    "* Modell 1 passt die Daten etwas besser an als Modell 2, wie durch leicht höhere R²- und Adjusted R²-Werte.\n",
    "\n",
    "* Beide Modelle zeigen, dass Warengruppen, Kieler Woche, verkaufsoffene Tage und Ferien signifikante Einflüsse auf den Umsatz haben. Modell 1 beinhaltet zusätzliche Variablen (Temperatur und Windgeschwindigkeit), wobei die Windgeschwindigkeit nicht signifikant ist, während Modell 2 einen signifikanten Interaktionsterm (Temperatur) beinhaltet."
   ]
  }
 ],
 "metadata": {
  "kernelspec": {
   "display_name": "Python 3",
   "language": "python",
   "name": "python3"
  },
  "language_info": {
   "codemirror_mode": {
    "name": "ipython",
    "version": 3
   },
   "file_extension": ".py",
   "mimetype": "text/x-python",
   "name": "python",
   "nbconvert_exporter": "python",
   "pygments_lexer": "ipython3",
   "version": "3.10.13"
  }
 },
 "nbformat": 4,
 "nbformat_minor": 2
}
