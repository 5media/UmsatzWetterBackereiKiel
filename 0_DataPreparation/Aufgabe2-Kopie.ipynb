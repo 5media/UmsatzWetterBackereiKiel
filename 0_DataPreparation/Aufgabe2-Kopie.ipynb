{
 "cells": [
  {
   "cell_type": "code",
   "execution_count": 3,
   "metadata": {},
   "outputs": [
    {
     "name": "stdout",
     "output_type": "stream",
     "text": [
      "                            OLS Regression Results                            \n",
      "==============================================================================\n",
      "Dep. Variable:                 Umsatz   R-squared:                       0.051\n",
      "Model:                            OLS   Adj. R-squared:                  0.020\n",
      "Method:                 Least Squares   F-statistic:                     1.658\n",
      "Date:                Thu, 23 May 2024   Prob (F-statistic):              0.121\n",
      "Time:                        16:28:54   Log-Likelihood:                -1464.4\n",
      "No. Observations:                 223   AIC:                             2945.\n",
      "Df Residuals:                     215   BIC:                             2972.\n",
      "Df Model:                           7                                         \n",
      "Covariance Type:            nonrobust                                         \n",
      "=====================================================================================\n",
      "                        coef    std err          t      P>|t|      [0.025      0.975]\n",
      "-------------------------------------------------------------------------------------\n",
      "Intercept           275.5935     76.858      3.586      0.000     124.102     427.085\n",
      "C(Wochentag)[T.1]   -15.8338     49.609     -0.319      0.750    -113.616      81.949\n",
      "C(Wochentag)[T.2]     0.0781     49.571      0.002      0.999     -97.629      97.786\n",
      "C(Wochentag)[T.3]     1.4084     49.557      0.028      0.977     -96.271      99.088\n",
      "C(Wochentag)[T.4]    30.3738     50.080      0.606      0.545     -68.338     129.085\n",
      "C(Wochentag)[T.5]    94.1557     43.180      2.181      0.030       9.044     179.267\n",
      "C(Wochentag)[T.6]    43.0128     43.012      1.000      0.318     -41.767     127.792\n",
      "Temperatur           -2.5533      3.643     -0.701      0.484      -9.734       4.627\n",
      "==============================================================================\n",
      "Omnibus:                       21.237   Durbin-Watson:                   0.271\n",
      "Prob(Omnibus):                  0.000   Jarque-Bera (JB):               25.272\n",
      "Skew:                           0.825   Prob(JB):                     3.25e-06\n",
      "Kurtosis:                       2.995   Cond. No.                         164.\n",
      "==============================================================================\n",
      "\n",
      "Notes:\n",
      "[1] Standard Errors assume that the covariance matrix of the errors is correctly specified.\n"
     ]
    }
   ],
   "source": [
    "import pandas as pd\n",
    "import numpy as np\n",
    "import statsmodels.formula.api as smf\n",
    "import matplotlib.pyplot as plt\n",
    "\n",
    "# Dateine einlesen\n",
    "umsatz_df = pd.read_csv('/workspaces/test_repo/0_DataPreparation/umsatzdaten_gekuerzt.csv')\n",
    "kiwo_df = pd.read_csv('/workspaces/test_repo/0_DataPreparation/kiwo.csv')\n",
    "wetter_df = pd.read_csv('/workspaces/test_repo/0_DataPreparation/wetter.csv')\n",
    "\n",
    "# Datum zu datetime-Objekten\n",
    "umsatz_df['Datum'] = pd.to_datetime(umsatz_df['Datum'])\n",
    "kiwo_df['Datum'] = pd.to_datetime(kiwo_df['Datum'])\n",
    "wetter_df['Datum'] = pd.to_datetime(wetter_df['Datum'])\n",
    "\n",
    "# Mergen\n",
    "merged_df = pd.merge(umsatz_df, kiwo_df, on='Datum', how='inner')\n",
    "merged_df = pd.merge(merged_df, wetter_df, on='Datum', how='inner')\n",
    "\n",
    "# Wochentag als kategorielle Variable\n",
    "merged_df['Wochentag'] = merged_df['Datum'].dt.dayofweek\n",
    "\n",
    "# Lineare Regression\n",
    "model_formula = 'Umsatz ~ Temperatur + C(Wochentag)' # Umsatz in Abhängigkeit von Temperatur und Wochentagen\n",
    "model = smf.ols(model_formula, data=merged_df).fit()\n",
    "\n",
    "# Modellzusammenfassung\n",
    "print(model.summary())"
   ]
  }
 ],
 "metadata": {
  "kernelspec": {
   "display_name": "Python 3",
   "language": "python",
   "name": "python3"
  },
  "language_info": {
   "codemirror_mode": {
    "name": "ipython",
    "version": 3
   },
   "file_extension": ".py",
   "mimetype": "text/x-python",
   "name": "python",
   "nbconvert_exporter": "python",
   "pygments_lexer": "ipython3",
   "version": "3.10.13"
  }
 },
 "nbformat": 4,
 "nbformat_minor": 2
}
