{
 "cells": [
  {
   "cell_type": "code",
   "execution_count": 1,
   "metadata": {},
   "outputs": [
    {
     "ename": "ModuleNotFoundError",
     "evalue": "No module named 'pandas'",
     "output_type": "error",
     "traceback": [
      "\u001b[1;31m---------------------------------------------------------------------------\u001b[0m",
      "\u001b[1;31mModuleNotFoundError\u001b[0m                       Traceback (most recent call last)",
      "Cell \u001b[1;32mIn[1], line 2\u001b[0m\n\u001b[0;32m      1\u001b[0m \u001b[38;5;66;03m# Import Datamerge\u001b[39;00m\n\u001b[1;32m----> 2\u001b[0m \u001b[38;5;28;01mfrom\u001b[39;00m \u001b[38;5;21;01mDatamerge\u001b[39;00m \u001b[38;5;28;01mimport\u001b[39;00m merged_df\n\u001b[0;32m      4\u001b[0m \u001b[38;5;66;03m# Import Packages\u001b[39;00m\n\u001b[0;32m      5\u001b[0m \u001b[38;5;28;01mimport\u001b[39;00m \u001b[38;5;21;01mstatsmodels\u001b[39;00m\u001b[38;5;21;01m.\u001b[39;00m\u001b[38;5;21;01mformula\u001b[39;00m\u001b[38;5;21;01m.\u001b[39;00m\u001b[38;5;21;01mapi\u001b[39;00m \u001b[38;5;28;01mas\u001b[39;00m \u001b[38;5;21;01msmf\u001b[39;00m\n",
      "File \u001b[1;32md:\\VSC_GitHub_Repository\\UmsatzWetterBackereiKiel\\0_DataPreparation\\Datamerge.py:1\u001b[0m\n\u001b[1;32m----> 1\u001b[0m \u001b[38;5;28;01mimport\u001b[39;00m \u001b[38;5;21;01mpandas\u001b[39;00m \u001b[38;5;28;01mas\u001b[39;00m \u001b[38;5;21;01mpd\u001b[39;00m\n\u001b[0;32m      2\u001b[0m \u001b[38;5;28;01mimport\u001b[39;00m \u001b[38;5;21;01mnumpy\u001b[39;00m \u001b[38;5;28;01mas\u001b[39;00m \u001b[38;5;21;01mnp\u001b[39;00m\n\u001b[0;32m      5\u001b[0m \u001b[38;5;66;03m# Dateine einlesen\u001b[39;00m\n",
      "\u001b[1;31mModuleNotFoundError\u001b[0m: No module named 'pandas'"
     ]
    }
   ],
   "source": [
    "# Import Datamerge\n",
    "from Datamerge import merged_df\n",
    "\n",
    "# Import Packages\n",
    "import statsmodels.formula.api as smf\n",
    "import matplotlib.pyplot as plt\n",
    "import pandas as pd\n",
    "\n",
    "# merged anzeigen\n",
    "# print(merged_df)\n",
    "\n",
    "# Konvertieren der Spalte 'Warengruppe' in eine kategorische Variable\n",
    "merged_df['Warengruppe'] = pd.Categorical(merged_df['Warengruppe'])\n",
    "\n",
    "# Überprüfen der Änderungen\n",
    "# print(merged_df.dtypes)\n",
    "\n",
    "# Anzeigen der Kategorien\n",
    "# print(merged_df['Warengruppe'].cat.categories)\n",
    "\n",
    "# Anzahl der Vorkommen jeder Kategorie\n",
    "# print(merged_df['Warengruppe'].value_counts())\n",
    "\n",
    "\n",
    "# Definieren der Formel\n",
    "model_formula = 'Umsatz ~ Temperatur + C(Warengruppe)'\n",
    "\n",
    "# Erstellen und Trainieren des Modells\n",
    "model = smf.ols(model_formula, data=merged_df).fit()\n",
    "\n",
    "# Anzeigen der Modellzusammenfassung\n",
    "print(model.summary())\n",
    "\n",
    "\n",
    "\n"
   ]
  }
 ],
 "metadata": {
  "kernelspec": {
   "display_name": "Python 3",
   "language": "python",
   "name": "python3"
  },
  "language_info": {
   "codemirror_mode": {
    "name": "ipython",
    "version": 3
   },
   "file_extension": ".py",
   "mimetype": "text/x-python",
   "name": "python",
   "nbconvert_exporter": "python",
   "pygments_lexer": "ipython3",
   "version": "3.12.3"
  }
 },
 "nbformat": 4,
 "nbformat_minor": 2
}
