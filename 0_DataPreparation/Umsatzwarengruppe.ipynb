{
 "cells": [
  {
   "cell_type": "code",
   "execution_count": 7,
   "metadata": {},
   "outputs": [
    {
     "name": "stdout",
     "output_type": "stream",
     "text": [
      "Datum                  datetime64[ns]\n",
      "Warengruppe                  category\n",
      "Umsatz                        float64\n",
      "KielerWoche                     int64\n",
      "Bewoelkung                    float64\n",
      "Temperatur                    float64\n",
      "Windgeschwindigkeit             int64\n",
      "Wettercode                    float64\n",
      "Wochentag                       int32\n",
      "dtype: object\n",
      "Index([1, 2, 3, 4, 5], dtype='int64')\n",
      "Warengruppe\n",
      "1    45\n",
      "2    45\n",
      "3    45\n",
      "5    45\n",
      "4    43\n",
      "Name: count, dtype: int64\n",
      "                            OLS Regression Results                            \n",
      "==============================================================================\n",
      "Dep. Variable:                 Umsatz   R-squared:                       0.833\n",
      "Model:                            OLS   Adj. R-squared:                  0.830\n",
      "Method:                 Least Squares   F-statistic:                     217.2\n",
      "Date:                Fri, 24 May 2024   Prob (F-statistic):           2.29e-82\n",
      "Time:                        10:03:51   Log-Likelihood:                -1270.4\n",
      "No. Observations:                 223   AIC:                             2553.\n",
      "Df Residuals:                     217   BIC:                             2573.\n",
      "Df Model:                           5                                         \n",
      "Covariance Type:            nonrobust                                         \n",
      "=======================================================================================\n",
      "                          coef    std err          t      P>|t|      [0.025      0.975]\n",
      "---------------------------------------------------------------------------------------\n",
      "Intercept             210.3270     29.752      7.069      0.000     151.686     268.968\n",
      "C(Warengruppe)[T.2]   402.5332     15.405     26.131      0.000     372.172     432.895\n",
      "C(Warengruppe)[T.3]    87.2790     15.405      5.666      0.000      56.917     117.641\n",
      "C(Warengruppe)[T.4]   -55.2962     15.583     -3.548      0.000     -86.010     -24.582\n",
      "C(Warengruppe)[T.5]   179.6742     15.405     11.664      0.000     149.313     210.036\n",
      "Temperatur             -4.0288      1.502     -2.683      0.008      -6.988      -1.069\n",
      "==============================================================================\n",
      "Omnibus:                       62.890   Durbin-Watson:                   1.352\n",
      "Prob(Omnibus):                  0.000   Jarque-Bera (JB):              160.944\n",
      "Skew:                           1.253   Prob(JB):                     1.13e-35\n",
      "Kurtosis:                       6.323   Cond. No.                         122.\n",
      "==============================================================================\n",
      "\n",
      "Notes:\n",
      "[1] Standard Errors assume that the covariance matrix of the errors is correctly specified.\n"
     ]
    }
   ],
   "source": [
    "# Import Datamerge\n",
    "from Datamerge import merged_df\n",
    "\n",
    "# Import Packages\n",
    "import statsmodels.formula.api as smf\n",
    "import matplotlib.pyplot as plt\n",
    "import pandas as pd\n",
    "\n",
    "# Konvertieren der Spalte 'Warengruppe' in eine kategorische Variable\n",
    "merged_df['Warengruppe'] = pd.Categorical(merged_df['Warengruppe'])\n",
    "\n",
    "# Überprüfen der Änderungen\n",
    "print(merged_df.dtypes)\n",
    "\n",
    "# Anzeigen der Kategorien\n",
    "print(merged_df['Warengruppe'].cat.categories)\n",
    "\n",
    "# Anzahl der Vorkommen jeder Kategorie\n",
    "print(merged_df['Warengruppe'].value_counts())\n",
    "\n",
    "\n",
    "# Lineare Regression\n",
    "model_formula = 'Umsatz ~ Temperatur + C(Warengruppe)' # Umsatz in Abhängigkeit von Temperatur und Warengruppe\n",
    "model = smf.ols(model_formula, data=merged_df).fit()\n",
    "\n",
    "# Modellzusammenfassung\n",
    "print(model.summary())\n",
    "\n"
   ]
  }
 ],
 "metadata": {
  "kernelspec": {
   "display_name": "Python 3",
   "language": "python",
   "name": "python3"
  },
  "language_info": {
   "codemirror_mode": {
    "name": "ipython",
    "version": 3
   },
   "file_extension": ".py",
   "mimetype": "text/x-python",
   "name": "python",
   "nbconvert_exporter": "python",
   "pygments_lexer": "ipython3",
   "version": "3.10.13"
  }
 },
 "nbformat": 4,
 "nbformat_minor": 2
}
